{
 "cells": [
  {
   "cell_type": "markdown",
   "metadata": {},
   "source": [
    "# Question - 1"
   ]
  },
  {
   "cell_type": "code",
   "execution_count": 20,
   "metadata": {},
   "outputs": [
    {
     "name": "stdout",
     "output_type": "stream",
     "text": [
      "Enter the Number: 5\n",
      "Enter the Number: 1\n",
      "Enter the Number: 4\n",
      "Enter the Number: 58\n",
      "Enter the Number: 4\n",
      "Enter the Number: 2\n",
      "Enter the Number: 9\n",
      "Enter the Number: 23\n",
      "Enter the Number: 3\n",
      "Enter the Number: 4\n",
      "[4, 58, 4, 2, 4]\n"
     ]
    }
   ],
   "source": [
    "lst = []\n",
    "\n",
    "for i in range(0,10):\n",
    "    a = int(input(\"Enter the Number: \"))\n",
    "    if a%2 == 0:\n",
    "        lst.append(a)\n",
    "    \n",
    "print(lst) "
   ]
  },
  {
   "cell_type": "markdown",
   "metadata": {},
   "source": [
    "# Question - 2"
   ]
  },
  {
   "cell_type": "code",
   "execution_count": 16,
   "metadata": {},
   "outputs": [
    {
     "name": "stdout",
     "output_type": "stream",
     "text": [
      "['n', 'o', 't', 'e', 'b', 'o', 'o', 'k']\n"
     ]
    }
   ],
   "source": [
    "lst = [ letter for letter in 'notebook' ]\n",
    "\n",
    "print(lst)"
   ]
  },
  {
   "cell_type": "markdown",
   "metadata": {},
   "source": [
    "# Question - 3"
   ]
  },
  {
   "cell_type": "code",
   "execution_count": 19,
   "metadata": {},
   "outputs": [
    {
     "name": "stdout",
     "output_type": "stream",
     "text": [
      "5\n",
      "{1: 1, 2: 4, 3: 9, 4: 16, 5: 25}\n"
     ]
    }
   ],
   "source": [
    "dit = {}\n",
    "\n",
    "n = int(input())\n",
    "\n",
    "for i in range(1,n+1):\n",
    "    dit[i] = i*i\n",
    "\n",
    "print(dit)"
   ]
  },
  {
   "cell_type": "markdown",
   "metadata": {},
   "source": [
    "# Question- 4"
   ]
  },
  {
   "cell_type": "code",
   "execution_count": 28,
   "metadata": {},
   "outputs": [
    {
     "name": "stdout",
     "output_type": "stream",
     "text": [
      "4\n",
      "UP\n",
      "5\n",
      "DOWN\n",
      "3\n",
      "LEFT\n",
      "3\n",
      "RIGHT\n",
      "2\n",
      "2\n"
     ]
    }
   ],
   "source": [
    "n = int(input())\n",
    "y = x = 0\n",
    "\n",
    "for i in range(0,n):\n",
    "    direction = input()\n",
    "    if direction.lower() == \"up\":\n",
    "        noOfSteps = int(input())\n",
    "        y = y + noOfSteps\n",
    "    elif direction.lower() == \"down\":\n",
    "        noOfSteps = int(input())\n",
    "        y = y - noOfSteps\n",
    "    elif direction.lower() == \"left\":\n",
    "        noOfSteps = int(input())\n",
    "        x = x - noOfSteps\n",
    "    elif direction.lower() == \"right\":\n",
    "        noOfSteps = int(input())\n",
    "        x = x + noOfSteps\n",
    "\n",
    "print(int(round((x**2 + y**2)**0.5)))\n"
   ]
  },
  {
   "cell_type": "code",
   "execution_count": null,
   "metadata": {},
   "outputs": [],
   "source": []
  }
 ],
 "metadata": {
  "kernelspec": {
   "display_name": "Python 3",
   "language": "python",
   "name": "python3"
  },
  "language_info": {
   "codemirror_mode": {
    "name": "ipython",
    "version": 3
   },
   "file_extension": ".py",
   "mimetype": "text/x-python",
   "name": "python",
   "nbconvert_exporter": "python",
   "pygments_lexer": "ipython3",
   "version": "3.8.3"
  }
 },
 "nbformat": 4,
 "nbformat_minor": 4
}
