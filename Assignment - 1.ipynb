{
 "cells": [
  {
   "cell_type": "markdown",
   "metadata": {},
   "source": [
    "# Question - 1"
   ]
  },
  {
   "cell_type": "code",
   "execution_count": 10,
   "metadata": {},
   "outputs": [
    {
     "name": "stdout",
     "output_type": "stream",
     "text": [
      "Given the following jumbled word, OBANWRI guess the correct English word: \n",
      "\n",
      "A. RANIBOW \n",
      "B. RAINBOW \n",
      "C. BOWRANI \n",
      "D. ROBWANI \n",
      "\n",
      "Enter your answer:B\n",
      "Yes, You are right!!!\n"
     ]
    }
   ],
   "source": [
    "print(\"Given the following jumbled word, OBANWRI guess the correct English word: \\n\\nA. RANIBOW \\nB. RAINBOW \\nC. BOWRANI \\nD. ROBWANI \\n\")\n",
    "\n",
    "inpt = input(\"Enter your answer:\")\n",
    "if (inpt == \"B\" or inpt == \"b\"):\n",
    "    print(\"Yes, You are right!!!\")\n",
    "else:\n",
    "    print(\"No, You are wrong!!!\")"
   ]
  },
  {
   "cell_type": "code",
   "execution_count": 11,
   "metadata": {
    "scrolled": false
   },
   "outputs": [
    {
     "name": "stdout",
     "output_type": "stream",
     "text": [
      "Given the following jumbled word, OBANWRI guess the correct English word: \n",
      "\n",
      "A. RANIBOW \n",
      "B. RAINBOW \n",
      "C. BOWRANI \n",
      "D. ROBWANI \n",
      "\n",
      "Enter your answer:A\n",
      "No, You are wrong!!!\n"
     ]
    }
   ],
   "source": [
    "print(\"Given the following jumbled word, OBANWRI guess the correct English word: \\n\\nA. RANIBOW \\nB. RAINBOW \\nC. BOWRANI \\nD. ROBWANI \\n\")\n",
    "\n",
    "inpt = input(\"Enter your answer:\")\n",
    "if (inpt == \"B\" or inpt == \"b\"):\n",
    "    print(\"Yes, You are right!!!\")\n",
    "else:\n",
    "    print(\"No, You are wrong!!!\")"
   ]
  },
  {
   "cell_type": "markdown",
   "metadata": {},
   "source": [
    "# Question - 2"
   ]
  },
  {
   "cell_type": "code",
   "execution_count": 5,
   "metadata": {},
   "outputs": [
    {
     "name": "stdout",
     "output_type": "stream",
     "text": [
      "LETS UPGRADE\n"
     ]
    }
   ],
   "source": [
    "print(\"LETS UPGRADE\")"
   ]
  },
  {
   "cell_type": "markdown",
   "metadata": {},
   "source": [
    "# Question - 3"
   ]
  },
  {
   "cell_type": "code",
   "execution_count": 7,
   "metadata": {},
   "outputs": [
    {
     "name": "stdout",
     "output_type": "stream",
     "text": [
      "460\n",
      "500\n",
      "\n",
      "Profit\n"
     ]
    }
   ],
   "source": [
    "costPrice = input()\n",
    "sellPrice = input()\n",
    "\n",
    "if (costPrice > sellPrice):\n",
    "    print(\"\\nLoss\")\n",
    "elif (costPrice < sellPrice):\n",
    "    print(\"\\nProfit\")\n",
    "else:\n",
    "    print(\"\\nNeither\")"
   ]
  },
  {
   "cell_type": "code",
   "execution_count": 8,
   "metadata": {},
   "outputs": [
    {
     "name": "stdout",
     "output_type": "stream",
     "text": [
      "500\n",
      "460\n",
      "\n",
      "Loss\n"
     ]
    }
   ],
   "source": [
    "costPrice = input()\n",
    "sellPrice = input()\n",
    "\n",
    "if (costPrice > sellPrice):\n",
    "    print(\"\\nLoss\")\n",
    "elif (costPrice < sellPrice):\n",
    "    print(\"\\nProfit\")\n",
    "else:\n",
    "    print(\"\\nNeither\")"
   ]
  },
  {
   "cell_type": "code",
   "execution_count": 9,
   "metadata": {},
   "outputs": [
    {
     "name": "stdout",
     "output_type": "stream",
     "text": [
      "500\n",
      "500\n",
      "\n",
      "Neither\n"
     ]
    }
   ],
   "source": [
    "costPrice = input()\n",
    "sellPrice = input()\n",
    "\n",
    "if (costPrice > sellPrice):\n",
    "    print(\"\\nLoss\")\n",
    "elif (costPrice < sellPrice):\n",
    "    print(\"\\nProfit\")\n",
    "else:\n",
    "    print(\"\\nNeither\")"
   ]
  },
  {
   "cell_type": "markdown",
   "metadata": {},
   "source": [
    "# Question - 4"
   ]
  },
  {
   "cell_type": "code",
   "execution_count": 13,
   "metadata": {},
   "outputs": [
    {
     "name": "stdout",
     "output_type": "stream",
     "text": [
      "20\n",
      "1600\n"
     ]
    }
   ],
   "source": [
    "Price = int(input())\n",
    "print(Price*80)"
   ]
  },
  {
   "cell_type": "code",
   "execution_count": 14,
   "metadata": {},
   "outputs": [
    {
     "name": "stdout",
     "output_type": "stream",
     "text": [
      "50\n",
      "4000\n"
     ]
    }
   ],
   "source": [
    "Price = int(input())\n",
    "print(Price*80)"
   ]
  },
  {
   "cell_type": "code",
   "execution_count": 15,
   "metadata": {},
   "outputs": [
    {
     "name": "stdout",
     "output_type": "stream",
     "text": [
      "7\n",
      "560\n"
     ]
    }
   ],
   "source": [
    "Price = int(input())\n",
    "print(Price*80)"
   ]
  }
 ],
 "metadata": {
  "kernelspec": {
   "display_name": "Python 3",
   "language": "python",
   "name": "python3"
  },
  "language_info": {
   "codemirror_mode": {
    "name": "ipython",
    "version": 3
   },
   "file_extension": ".py",
   "mimetype": "text/x-python",
   "name": "python",
   "nbconvert_exporter": "python",
   "pygments_lexer": "ipython3",
   "version": "3.8.3"
  }
 },
 "nbformat": 4,
 "nbformat_minor": 4
}
