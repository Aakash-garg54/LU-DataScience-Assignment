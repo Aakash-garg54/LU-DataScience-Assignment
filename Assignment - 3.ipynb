{
 "cells": [
  {
   "cell_type": "code",
   "execution_count": 2,
   "metadata": {},
   "outputs": [],
   "source": [
    "import numpy as np"
   ]
  },
  {
   "cell_type": "markdown",
   "metadata": {},
   "source": [
    "# Question - 1"
   ]
  },
  {
   "cell_type": "code",
   "execution_count": 4,
   "metadata": {},
   "outputs": [
    {
     "name": "stdout",
     "output_type": "stream",
     "text": [
      "[ 2  5  8 11 14 17 20 23 26 29 32 35 38 41 44 47]\n"
     ]
    }
   ],
   "source": [
    "arr = np.arange(2, 50, 3)\n",
    "print(arr)"
   ]
  },
  {
   "cell_type": "markdown",
   "metadata": {},
   "source": [
    "# Question - 2"
   ]
  },
  {
   "cell_type": "code",
   "execution_count": 10,
   "metadata": {},
   "outputs": [
    {
     "name": "stdout",
     "output_type": "stream",
     "text": [
      "\n",
      "Enter the required number for the first list: 1\n",
      "\n",
      "Enter the required number for the first list: 2\n",
      "\n",
      "Enter the required number for the first list: 5\n",
      "\n",
      "Enter the required number for the first list: 9\n",
      "\n",
      "Enter the required number for the first list: 4\n",
      "\n",
      "Enter the required number for the Second list: 5\n",
      "\n",
      "Enter the required number for the Second list: 1\n",
      "\n",
      "Enter the required number for the Second list: 6\n",
      "\n",
      "Enter the required number for the Second list: 2\n",
      "\n",
      "Enter the required number for the Second list: 8\n",
      "\n",
      "\n",
      "Concatenated Array of Entered Array: [1 2 5 9 4 5 1 6 2 8]\n",
      "\n",
      "\n",
      "Sorted Array : \n",
      "Array 1 : [1 2 4 5 9] \n",
      "Array 2 : [1 2 5 6 8] \n",
      "Concatenated Array  : [1 1 2 2 4 5 5 6 8 9]\n"
     ]
    }
   ],
   "source": [
    "lst1 = []\n",
    "lst2 = []\n",
    "\n",
    "for i in range(5):\n",
    "    a = int(input(\"\\nEnter the required number for the first list: \"))\n",
    "    lst1.append(a)\n",
    "    \n",
    "for i in range(5):\n",
    "    a = int(input(\"\\nEnter the required number for the Second list: \"))\n",
    "    lst2.append(a)\n",
    "    \n",
    "arr1 = np.array(lst1)\n",
    "arr2 = np.array(lst2)\n",
    "\n",
    "arr = np.concatenate((arr1, arr2))\n",
    "print(\"\\n\\nConcatenated Array of Entered Array:\" , arr)\n",
    "\n",
    "sarr1 = np.sort(arr1)\n",
    "sarr2 = np.sort(arr2)\n",
    "sarr = np.sort(arr)\n",
    "\n",
    "print(\"\\n\\nSorted Array :\" ,\"\\nArray 1 :\", sarr1, \"\\nArray 2 :\", sarr2, \"\\nConcatenated Array  :\", sarr, )"
   ]
  },
  {
   "cell_type": "markdown",
   "metadata": {},
   "source": [
    "# Question - 3"
   ]
  },
  {
   "cell_type": "code",
   "execution_count": 12,
   "metadata": {},
   "outputs": [
    {
     "name": "stdout",
     "output_type": "stream",
     "text": [
      "Array:  [1 2 5 9 4] \n",
      "Its Number of dimensions:  1 \n",
      "Its size:  5\n"
     ]
    }
   ],
   "source": [
    "dim = arr1.ndim \n",
    "size = arr1.size # Shows the total number of the elements in the array\n",
    "\n",
    "print(\"Array: \", arr1 , \"\\nIts Number of dimensions: \", dim , \"\\nIts size: \", size)"
   ]
  },
  {
   "cell_type": "code",
   "execution_count": 15,
   "metadata": {},
   "outputs": [
    {
     "name": "stdout",
     "output_type": "stream",
     "text": [
      "Array:  [[1 2 1 2 1]\n",
      " [2 3 1 2 1]] \n",
      "Its Number of dimensions:  2 \n",
      "Its size:  10\n"
     ]
    }
   ],
   "source": [
    "arr = np.array([ [1,2,1,2,1], [2,3,1,2,1] ])\n",
    "\n",
    "dim = arr.ndim \n",
    "size = arr.size # Shows the total number of the elements in the array\n",
    "\n",
    "print(\"Array: \", arr , \"\\nIts Number of dimensions: \", dim , \"\\nIts size: \", size)"
   ]
  },
  {
   "cell_type": "code",
   "execution_count": 19,
   "metadata": {},
   "outputs": [
    {
     "name": "stdout",
     "output_type": "stream",
     "text": [
      "Array: \n",
      " [[[1 2 1 2 1]\n",
      "  [2 3 1 2 1]]\n",
      "\n",
      " [[1 2 1 2 1]\n",
      "  [2 3 1 2 1]]] \n",
      "Its Number of dimensions:  3 \n",
      "Its size:  20\n"
     ]
    }
   ],
   "source": [
    "arr = np.array([ [ [1,2,1,2,1], [2,3,1,2,1] ], [ [1,2,1,2,1], [2,3,1,2,1] ]])\n",
    "\n",
    "dim = arr.ndim \n",
    "size = arr.size # Shows the total number of the elements in the array\n",
    "\n",
    "print(\"Array: \\n\", arr , \"\\nIts Number of dimensions: \", dim , \"\\nIts size: \", size)"
   ]
  },
  {
   "cell_type": "markdown",
   "metadata": {},
   "source": [
    "# Question - 4  "
   ]
  },
  {
   "cell_type": "raw",
   "metadata": {},
   "source": [
    "There are many ways to convert 1D array to 2D array. The following functions can be used for the conversation for the same. \n",
    "\n",
    "1. Reshape()\n",
    "2. expand_dims()\n",
    "\n",
    "Attribute :\n",
    "1. newaxis "
   ]
  },
  {
   "cell_type": "code",
   "execution_count": 31,
   "metadata": {},
   "outputs": [
    {
     "name": "stdout",
     "output_type": "stream",
     "text": [
      "Shape of the array:  (6,)\n",
      "\n",
      "New Array: \n",
      " [[2 3]\n",
      " [1 3]\n",
      " [5 7]]\n",
      "\n",
      "Shape of the new array:  (3, 2)\n"
     ]
    }
   ],
   "source": [
    "# for example\n",
    "\n",
    "# 1. Reshape\n",
    "\n",
    "arr = np.array([2, 3, 1, 3, 5, 7])\n",
    "print(\"Shape of the array: \" , np.shape(arr))\n",
    "\n",
    "newarr = arr.reshape(3,2)\n",
    "print(\"\\nNew Array: \\n\", newarr)\n",
    "\n",
    "print(\"\\nShape of the new array: \" , np.shape(newarr))"
   ]
  },
  {
   "cell_type": "code",
   "execution_count": 33,
   "metadata": {},
   "outputs": [
    {
     "name": "stdout",
     "output_type": "stream",
     "text": [
      "Shape of the array:  (6,)\n",
      "\n",
      "New Array: \n",
      " [[2 3 1 3 5 7]]\n",
      "\n",
      "Shape of the new array:  (1, 6)\n"
     ]
    }
   ],
   "source": [
    "#2. expand_dims()\n",
    "\n",
    "arr = np.array([2, 3, 1, 3, 5, 7])\n",
    "print(\"Shape of the array: \" , np.shape(arr))\n",
    "\n",
    "newarr = np.expand_dims(arr, axis=0)\n",
    "print(\"\\nNew Array: \\n\", newarr)\n",
    "\n",
    "print(\"\\nShape of the new array: \" , np.shape(newarr))"
   ]
  },
  {
   "cell_type": "code",
   "execution_count": 34,
   "metadata": {},
   "outputs": [
    {
     "name": "stdout",
     "output_type": "stream",
     "text": [
      "Shape of the array:  (6,)\n",
      "\n",
      "New Array: \n",
      " [[2]\n",
      " [3]\n",
      " [1]\n",
      " [3]\n",
      " [5]\n",
      " [7]]\n",
      "\n",
      "Shape of the new array:  (6, 1)\n"
     ]
    }
   ],
   "source": [
    "#2. expand_dims()\n",
    "\n",
    "arr = np.array([2, 3, 1, 3, 5, 7])\n",
    "print(\"Shape of the array: \" , np.shape(arr))\n",
    "\n",
    "newarr = np.expand_dims(arr, axis=1)\n",
    "print(\"\\nNew Array: \\n\", newarr)\n",
    "\n",
    "print(\"\\nShape of the new array: \" , np.shape(newarr))"
   ]
  },
  {
   "cell_type": "code",
   "execution_count": 35,
   "metadata": {},
   "outputs": [
    {
     "name": "stdout",
     "output_type": "stream",
     "text": [
      "Shape of the array:  (6,)\n",
      "\n",
      "New Array: \n",
      " [[2]\n",
      " [3]\n",
      " [1]\n",
      " [3]\n",
      " [5]\n",
      " [7]]\n",
      "\n",
      "Shape of the new array:  (6, 1)\n"
     ]
    }
   ],
   "source": [
    "#3. newaxis \n",
    "\n",
    "arr = np.array([2, 3, 1, 3, 5, 7])\n",
    "print(\"Shape of the array: \" , np.shape(arr))\n",
    "\n",
    "newarr = arr[:, np.newaxis]\n",
    "print(\"\\nNew Array: \\n\", newarr)\n",
    "\n",
    "print(\"\\nShape of the new array: \" , np.shape(newarr))"
   ]
  },
  {
   "cell_type": "code",
   "execution_count": 36,
   "metadata": {},
   "outputs": [
    {
     "name": "stdout",
     "output_type": "stream",
     "text": [
      "Shape of the array:  (6,)\n",
      "\n",
      "New Array: \n",
      " [[2 3 1 3 5 7]]\n",
      "\n",
      "Shape of the new array:  (1, 6)\n"
     ]
    }
   ],
   "source": [
    "#3. newaxis \n",
    "\n",
    "arr = np.array([2, 3, 1, 3, 5, 7])\n",
    "print(\"Shape of the array: \" , np.shape(arr))\n",
    "\n",
    "newarr = arr[np.newaxis]\n",
    "print(\"\\nNew Array: \\n\", newarr)\n",
    "\n",
    "print(\"\\nShape of the new array: \" , np.shape(newarr))"
   ]
  },
  {
   "cell_type": "code",
   "execution_count": null,
   "metadata": {},
   "outputs": [],
   "source": []
  }
 ],
 "metadata": {
  "kernelspec": {
   "display_name": "Python 3",
   "language": "python",
   "name": "python3"
  },
  "language_info": {
   "codemirror_mode": {
    "name": "ipython",
    "version": 3
   },
   "file_extension": ".py",
   "mimetype": "text/x-python",
   "name": "python",
   "nbconvert_exporter": "python",
   "pygments_lexer": "ipython3",
   "version": "3.8.3"
  }
 },
 "nbformat": 4,
 "nbformat_minor": 4
}
